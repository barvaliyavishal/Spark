{
 "cells": [
  {
   "cell_type": "markdown",
   "id": "171e0b0d",
   "metadata": {},
   "source": [
    "## importing needed libraries and initializing Spark Conf and Context"
   ]
  },
  {
   "cell_type": "code",
   "execution_count": 1,
   "id": "a048a525",
   "metadata": {},
   "outputs": [],
   "source": [
    "from pyspark import SparkConf, SparkContext\n",
    "import collections"
   ]
  },
  {
   "cell_type": "code",
   "execution_count": 2,
   "id": "dcc59cb9",
   "metadata": {},
   "outputs": [
    {
     "name": "stderr",
     "output_type": "stream",
     "text": [
      "21/07/30 08:53:30 WARN Utils: Your hostname, VB resolves to a loopback address: 127.0.1.1; using 192.168.43.204 instead (on interface wlp2s0)\n",
      "21/07/30 08:53:30 WARN Utils: Set SPARK_LOCAL_IP if you need to bind to another address\n",
      "21/07/30 08:53:31 WARN NativeCodeLoader: Unable to load native-hadoop library for your platform... using builtin-java classes where applicable\n",
      "Using Spark's default log4j profile: org/apache/spark/log4j-defaults.properties\n",
      "Setting default log level to \"WARN\".\n",
      "To adjust logging level use sc.setLogLevel(newLevel). For SparkR, use setLogLevel(newLevel).\n",
      "21/07/30 08:53:32 WARN Utils: Service 'SparkUI' could not bind on port 4040. Attempting port 4041.\n"
     ]
    }
   ],
   "source": [
    "cnf = SparkConf().setMaster(\"local\").setAppName(\"MinTempByLoc\")\n",
    "sc = SparkContext(conf = cnf)"
   ]
  },
  {
   "cell_type": "code",
   "execution_count": 6,
   "id": "5b984ec2",
   "metadata": {},
   "outputs": [],
   "source": [
    "lines = sc.textFile(\"1800.csv\")"
   ]
  },
  {
   "cell_type": "markdown",
   "id": "5c2f28bc",
   "metadata": {},
   "source": [
    "### defining function for parse line and get stationID, EntryType and Temperature"
   ]
  },
  {
   "cell_type": "code",
   "execution_count": 5,
   "id": "63842f89",
   "metadata": {},
   "outputs": [],
   "source": [
    "def parseLine(line):\n",
    "    fields = line.split(\",\")\n",
    "    station = fields[0]\n",
    "    entryType = fields[2]\n",
    "    temp = float(fields[3])*0.1*(9/5) + 32.0\n",
    "    return (station,entryType,temp)"
   ]
  },
  {
   "cell_type": "markdown",
   "id": "c91e31a9",
   "metadata": {},
   "source": [
    "### parse line and filter line which contains TMIN"
   ]
  },
  {
   "cell_type": "code",
   "execution_count": 9,
   "id": "8fda6c66",
   "metadata": {},
   "outputs": [],
   "source": [
    "parsedLines = lines.map(parseLine)\n",
    "minRdd = parsedLines.filter(lambda x : 'TMIN' in x[1])"
   ]
  },
  {
   "cell_type": "code",
   "execution_count": 15,
   "id": "42ea2d7e",
   "metadata": {},
   "outputs": [],
   "source": [
    "noTypeRdd = minRdd.map(lambda x: (x[0],x[2]))\n",
    "result = noTypeRdd.reduceByKey(lambda x,y : min(x,y)).collect()"
   ]
  },
  {
   "cell_type": "code",
   "execution_count": 16,
   "id": "07bfdbc9",
   "metadata": {},
   "outputs": [
    {
     "name": "stdout",
     "output_type": "stream",
     "text": [
      "('ITE00100554', 5.359999999999999)\n",
      "('EZE00100082', 7.699999999999999)\n"
     ]
    }
   ],
   "source": [
    "for i in result:\n",
    "    print(i)"
   ]
  },
  {
   "cell_type": "code",
   "execution_count": null,
   "id": "d104adf5",
   "metadata": {},
   "outputs": [],
   "source": []
  }
 ],
 "metadata": {
  "kernelspec": {
   "display_name": "Python 3 (ipykernel)",
   "language": "python",
   "name": "python3"
  },
  "language_info": {
   "codemirror_mode": {
    "name": "ipython",
    "version": 3
   },
   "file_extension": ".py",
   "mimetype": "text/x-python",
   "name": "python",
   "nbconvert_exporter": "python",
   "pygments_lexer": "ipython3",
   "version": "3.8.10"
  }
 },
 "nbformat": 4,
 "nbformat_minor": 5
}
